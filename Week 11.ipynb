{
 "cells": [
  {
   "cell_type": "code",
   "execution_count": 1,
   "metadata": {},
   "outputs": [
    {
     "name": "stdout",
     "output_type": "stream",
     "text": [
      "키보드로 cp file1 file2 입력:cp file1.txt file2.txt\n"
     ]
    }
   ],
   "source": [
    "## 실습 6 copy.py\n",
    "\n",
    "# import sys\n",
    "# file1 = sys.argv[1]\n",
    "# file2 = sys.argv[2]\n",
    "\n",
    "userinput = input(\"키보드로 cp file1.txt file2.txt 입력:\")\n",
    "argv = userinput.split()\n",
    "lines = \"\"\n",
    "\n",
    "with open(argv[1], 'r', encoding='UTF8') as file1:\n",
    "    with open(argv[2], 'w', encoding='UTF8') as file2:\n",
    "        content = file1.read()\n",
    "        file2.write(content)"
   ]
  },
  {
   "cell_type": "code",
   "execution_count": 2,
   "metadata": {},
   "outputs": [
    {
     "name": "stdout",
     "output_type": "stream",
     "text": [
      "키보드로 wc file1 입력: wc file1.txt\n",
      "단어의 개수는:  20\n",
      "문장의 개수는:  5\n"
     ]
    }
   ],
   "source": [
    "## 실습 7 wc.py\n",
    "\n",
    "# import sys\n",
    "# file1 = sys.argv[1]\n",
    "\n",
    "userinput = input(\"키보드로 wc file1.txt 입력: \")\n",
    "argv = userinput.split()\n",
    "\n",
    "words = []\n",
    "line_cnt = 0\n",
    "with open(argv[1], 'r', encoding='UTF8') as f:\n",
    "    for line in f.readlines():\n",
    "        words.extend(line.split())\n",
    "        line_cnt += 1\n",
    "\n",
    "print(\"단어의 개수는: \", len(words))\n",
    "print(\"문장의 개수는: \", line_cnt)"
   ]
  },
  {
   "cell_type": "code",
   "execution_count": 3,
   "metadata": {},
   "outputs": [
    {
     "name": "stdout",
     "output_type": "stream",
     "text": [
      "4 + 3 = 7\n",
      "4 - 3 = 1\n",
      "4 * 3 = 12\n",
      "4 / 3 = 1.33\n"
     ]
    }
   ],
   "source": [
    "## 실습 8 사칙 연산 클라스\n",
    "\n",
    "class Calc:\n",
    "    def sum(self, a, b):\n",
    "        print(f\"{a} + {b} = {a+b}\")\n",
    "        \n",
    "    def sub(self, a, b):\n",
    "        print(f\"{a} - {b} = {a-b}\")\n",
    "        \n",
    "    def multi(self, a, b):\n",
    "        print(f\"{a} * {b} = {a*b}\")\n",
    "        \n",
    "    def div(self, a, b):\n",
    "        print(f\"{a} / {b} = {round(a/b,2)}\")\n",
    "        \n",
    "a = Calc()\n",
    "a.sum(4,3)\n",
    "a.sub(4,3)\n",
    "a.multi(4,3)\n",
    "a.div(4,3)"
   ]
  },
  {
   "cell_type": "code",
   "execution_count": 7,
   "metadata": {},
   "outputs": [
    {
     "name": "stdout",
     "output_type": "stream",
     "text": [
      "계산식 입력: 1 + 2 * 3 / 4 - 5\n",
      "1 2 3 * 4 / + 5 -\n",
      "계산식 출력: 1 + 2 * 3 / 4 - 5 = -2.5\n"
     ]
    }
   ],
   "source": [
    "# 실습 9 계산기\n",
    "\n",
    "class Stack:\n",
    "    #리스트를 이용하여 스택 생성\n",
    "    def __init__ (self):\n",
    "        self.top = []\n",
    "\n",
    "    def push (self, item):\n",
    "        self.top.append(item)\n",
    "\n",
    "    def pop(self):\n",
    "        if not self.isEmpty():\n",
    "            return self.top.pop(-1)\n",
    "        else:\n",
    "            print(\"Stack underflow\")\n",
    "\n",
    "    def peek(self):\n",
    "        if not self.isEmpty():\n",
    "            return self.top[-1]\n",
    "        else:\n",
    "            print(\"underflow\")\n",
    "    \n",
    "    def isEmpty(self):\n",
    "        return len(self.top)==0\n",
    "\n",
    "    \n",
    "class Calculator:\n",
    "    def __init__(self):\n",
    "        self.priority = {\n",
    "            '+': 0,\n",
    "            '-': 0,\n",
    "            '*': 1,\n",
    "            '/': 1\n",
    "        }\n",
    "\n",
    "    def operator_priority(self, operator):\n",
    "        return self.priority.get(operator)\n",
    "\n",
    "    def toPostfix(self, calculation):\n",
    "        num_list = []\n",
    "        stack = Stack()\n",
    "        postfix = \"\"\n",
    "        for char in calculation.split():\n",
    "            if char.isdigit():\n",
    "                num_list.append(char)\n",
    "            elif stack.isEmpty():\n",
    "                stack.push(char)\n",
    "            elif self.operator_priority(char) > self.operator_priority(stack.peek()):\n",
    "                stack.push(char)\n",
    "            else:\n",
    "                while self.operator_priority(char) <= self.operator_priority(stack.peek()):\n",
    "                    num_list.append(stack.pop())\n",
    "                    if stack.isEmpty():\n",
    "                        break\n",
    "                stack.push(char)\n",
    "        while not stack.isEmpty():\n",
    "            num_list.append(stack.pop())\n",
    "\n",
    "        for char in num_list:\n",
    "            postfix += char + \" \"\n",
    "\n",
    "        return postfix.strip()\n",
    "\n",
    "    def calcOperation(self, postfix):\n",
    "        stack = Stack()\n",
    "        for char in postfix.split():\n",
    "            if char.isdigit():\n",
    "                stack.push(char)\n",
    "            else:\n",
    "                calculation = 0\n",
    "                operand2 = float(stack.pop())\n",
    "                operand1 = float(stack.pop())\n",
    "                if char == '+':\n",
    "                    calculation = operand1 + operand2\n",
    "                elif char == '-':\n",
    "                    calculation = operand1 - operand2\n",
    "                elif char == '*':\n",
    "                    calculation = operand1 * operand2\n",
    "                else:\n",
    "                    calculation = operand1 / operand2\n",
    "                stack.push(calculation)\n",
    "\n",
    "        return stack.pop()\n",
    "\n",
    "\n",
    "if __name__ == \"__main__\":\n",
    "    calc = Calculator()\n",
    "    operation = input(\"계산식 입력: \")\n",
    "    postfix = calc.toPostfix(operation)\n",
    "    print(postfix)\n",
    "    result = calc.calcOperation(postfix)\n",
    "    print(\"계산식 출력: {} = {}\" .format(operation, result))"
   ]
  }
 ],
 "metadata": {
  "kernelspec": {
   "display_name": "Python 3",
   "language": "python",
   "name": "python3"
  },
  "language_info": {
   "codemirror_mode": {
    "name": "ipython",
    "version": 3
   },
   "file_extension": ".py",
   "mimetype": "text/x-python",
   "name": "python",
   "nbconvert_exporter": "python",
   "pygments_lexer": "ipython3",
   "version": "3.8.5"
  }
 },
 "nbformat": 4,
 "nbformat_minor": 4
}
