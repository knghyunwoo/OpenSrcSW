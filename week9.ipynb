{
 "cells": [
  {
   "cell_type": "code",
   "execution_count": 19,
   "metadata": {},
   "outputs": [
    {
     "name": "stdout",
     "output_type": "stream",
     "text": [
      "3\n",
      "45\n"
     ]
    }
   ],
   "source": [
    "# 실습문제 1번\n",
    "\n",
    "x = int(input())\n",
    "y = 3*x**2 + 5*x + 3\n",
    "\n",
    "print(y)"
   ]
  },
  {
   "cell_type": "code",
   "execution_count": 20,
   "metadata": {},
   "outputs": [
    {
     "name": "stdout",
     "output_type": "stream",
     "text": [
      "3\n",
      "area =  28.26\n",
      "circumference =  18.84\n"
     ]
    }
   ],
   "source": [
    "# 실습문제 2번\n",
    "\n",
    "radius = int(input())\n",
    "pi = 3.14\n",
    "\n",
    "area = pi*radius**2\n",
    "circumference = 2*pi*radius\n",
    "\n",
    "print(\"area = \", area)\n",
    "print(\"circumference = \", circumference)"
   ]
  }
 ],
 "metadata": {
  "kernelspec": {
   "display_name": "Python 3",
   "language": "python",
   "name": "python3"
  },
  "language_info": {
   "codemirror_mode": {
    "name": "ipython",
    "version": 3
   },
   "file_extension": ".py",
   "mimetype": "text/x-python",
   "name": "python",
   "nbconvert_exporter": "python",
   "pygments_lexer": "ipython3",
   "version": "3.8.5"
  }
 },
 "nbformat": 4,
 "nbformat_minor": 4
}
