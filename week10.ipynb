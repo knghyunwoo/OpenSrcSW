{
 "cells": [
  {
   "cell_type": "code",
   "execution_count": 2,
   "metadata": {
    "scrolled": true
   },
   "outputs": [
    {
     "name": "stdout",
     "output_type": "stream",
     "text": [
      "띄어쓰기 기준으로 숫자를 입력해주세요123 41 214\n",
      "214\n"
     ]
    }
   ],
   "source": [
    "# 실습문제 2번 최대값 구하기\n",
    "\n",
    "lst = list(map(int, input(\"띄어쓰기 기준으로 숫자를 입력해주세요\").split()))\n",
    "print(max(lst))"
   ]
  },
  {
   "cell_type": "code",
   "execution_count": 3,
   "metadata": {},
   "outputs": [
    {
     "name": "stdout",
     "output_type": "stream",
     "text": [
      "암호화 하려면 1번, 복호화 하려면 2번, 종료는 3번3\n",
      "안녕히 가세요\n"
     ]
    }
   ],
   "source": [
    "# 실습문제 3번 암호화/복호화\n",
    "\n",
    "def encrypt():\n",
    "    raw_string = input(\"암호화할 문장을 넣으세요\").split()\n",
    "    raw_string.reverse()\n",
    "    pwd = \"\"\n",
    "    for word in raw_string:\n",
    "        temp = \"\"\n",
    "        for char in word:\n",
    "            char = chr(ord(char) + 1)\n",
    "            temp += char\n",
    "        pwd += temp\n",
    "        pwd += \" \"\n",
    "    print(pwd.rstrip())\n",
    "    \n",
    "def decrypt():\n",
    "    pwd = input(\"복호화할 문장을 넣으세요\").split()\n",
    "    raw_string = []\n",
    "    for word in pwd:\n",
    "        temp = \"\"\n",
    "        for char in word:\n",
    "            char = chr(ord(char) - 1)\n",
    "            temp += char\n",
    "        raw_string.append(temp)\n",
    "    raw_string.reverse()\n",
    "    print(\" \".join(raw_string))\n",
    "    \n",
    "while(1):\n",
    "    menu = int(input(\"암호화 하려면 1번, 복호화 하려면 2번, 종료는 3번\"))\n",
    "    if menu == 1:\n",
    "        encrypt()\n",
    "    elif menu == 2:\n",
    "        decrypt()\n",
    "    elif menu == 3:\n",
    "        print(\"안녕히 가세요\")\n",
    "        break\n",
    "    else:\n",
    "        print(\"다시 실행해주세요\")\n",
    "        continue"
   ]
  },
  {
   "cell_type": "code",
   "execution_count": 24,
   "metadata": {
    "scrolled": false
   },
   "outputs": [
    {
     "name": "stdout",
     "output_type": "stream",
     "text": [
      "값을 입력 하려면 1번, 번호검색을 하려면 2번, 이름검색을 하려면 3번, 종료는 4번1\n",
      "이름과 전화번호를 넣으세요a 1\n",
      "{'a': 1, 'b': 2}\n",
      "이름과 전화번호를 넣으세요b 2\n",
      "{'a': 1, 'b': 2}\n",
      "값을 입력 하려면 1번, 번호검색을 하려면 2번, 이름검색을 하려면 3번, 종료는 4번2\n",
      "{'a': 1, 'b': 2}\n",
      "이름을 입력해주세요b\n",
      "2\n",
      "값을 입력 하려면 1번, 번호검색을 하려면 2번, 이름검색을 하려면 3번, 종료는 4번3\n",
      "전화번호를 입력해주세요2\n",
      "b\n",
      "값을 입력 하려면 1번, 번호검색을 하려면 2번, 이름검색을 하려면 3번, 종료는 4번4\n",
      "안녕히 가세요\n"
     ]
    }
   ],
   "source": [
    "# 실습문제 4번 전화번호부\n",
    "\n",
    "def insert_values(phonebook):\n",
    "    for i in range(2):\n",
    "        name, number = tuple(input(\"이름과 전화번호를 넣으세요\").split())\n",
    "        phonebook[name] = int(number)\n",
    "#         print(phonebook)\n",
    "    return phonebook\n",
    "\n",
    "def ask_number(phonebook):\n",
    "    name = input(\"이름을 입력해주세요\")\n",
    "    if name in phonebook:\n",
    "        return(phonebook[name])\n",
    "    return(\"해당하는 번호가 없습니다\")\n",
    "\n",
    "def ask_name(phonebook):\n",
    "    number = int(input(\"전화번호를 입력해주세요\"))\n",
    "    for i,j in phonebook.items():\n",
    "        if number == j:\n",
    "            return(i)\n",
    "    return(\"해당하는 이름이 없습니다\")\n",
    "\n",
    "while(1):\n",
    "    menu = int(input(\"값을 입력 하려면 1번, 번호검색을 하려면 2번, 이름검색을 하려면 3번, 종료는 4번\"))\n",
    "    if menu == 1:\n",
    "        phonebook = insert_values(phonebook)\n",
    "    elif menu == 2:\n",
    "        print(ask_number(phonebook))\n",
    "    elif menu == 3:\n",
    "        print(ask_name(phonebook))\n",
    "    elif menu == 4:\n",
    "        print(\"안녕히 가세요\")\n",
    "        break\n",
    "    else:\n",
    "        print(\"다시 실행해주세요\")\n",
    "        continue"
   ]
  }
 ],
 "metadata": {
  "kernelspec": {
   "display_name": "Python 3",
   "language": "python",
   "name": "python3"
  },
  "language_info": {
   "codemirror_mode": {
    "name": "ipython",
    "version": 3
   },
   "file_extension": ".py",
   "mimetype": "text/x-python",
   "name": "python",
   "nbconvert_exporter": "python",
   "pygments_lexer": "ipython3",
   "version": "3.8.5"
  }
 },
 "nbformat": 4,
 "nbformat_minor": 4
}
