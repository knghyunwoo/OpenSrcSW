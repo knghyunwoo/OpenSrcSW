{
 "cells": [
  {
   "cell_type": "code",
   "execution_count": 29,
   "metadata": {},
   "outputs": [
    {
     "name": "stdout",
     "output_type": "stream",
     "text": [
      "(1,2)\n",
      "(3,4)\n",
      "(4,6)\n"
     ]
    }
   ],
   "source": [
    "# 1번\n",
    "\n",
    "class Point:\n",
    "    \n",
    "    def __init__(self, x, y):\n",
    "        self.x = x\n",
    "        self.y = y\n",
    "    \n",
    "    def show(self):\n",
    "        print(f\"({self.x},{self.y})\")\n",
    "        \n",
    "    def __add__(self, other):\n",
    "        self.x += other.x\n",
    "        self.y += other.y\n",
    "        return Point(self.x, self.y)\n",
    "\n",
    "a = Point(1,2)\n",
    "a.show()\n",
    "\n",
    "b = Point(3,4)\n",
    "b.show()\n",
    "\n",
    "a = a+b\n",
    "a.show()"
   ]
  },
  {
   "cell_type": "code",
   "execution_count": 23,
   "metadata": {},
   "outputs": [
    {
     "name": "stdout",
     "output_type": "stream",
     "text": [
      "Max Week = 5/8 ~ 5/14\n"
     ]
    }
   ],
   "source": [
    "# 2번\n",
    "import csv\n",
    "\n",
    "with open(\"seoul.csv\") as file:\n",
    "    data = csv.reader(file)\n",
    "    header = next(data)\n",
    "    day_temp = []\n",
    "    for i in data:\n",
    "        day_temp.append(round(float(i[4])-float(i[3]),3))\n",
    "    week_temp = []\n",
    "    temp_sum = 0\n",
    "    for i,temp in enumerate(day_temp):\n",
    "        temp_sum = 0\n",
    "        if i == 25:\n",
    "            break\n",
    "        for j in range(7):\n",
    "            temp_sum += day_temp[i+j]\n",
    "        week_temp.append(temp_sum)\n",
    "    start_date = week_temp.index(max(week_temp)) + 1 #index 0부터였음으로 1추가해서 보정\n",
    "    print(f\"Max Week = 5/{start_date} ~ 5/{start_date+6}\")"
   ]
  },
  {
   "cell_type": "code",
   "execution_count": 70,
   "metadata": {},
   "outputs": [
    {
     "name": "stdout",
     "output_type": "stream",
     "text": [
      "0.58 0.87 0.67\n"
     ]
    },
    {
     "data": {
      "image/png": "[encoded data removed]",
      "text/plain": [
       "<Figure size 432x288 with 1 Axes>"
      ]
     },
     "metadata": {
      "needs_background": "light"
     },
     "output_type": "display_data"
    }
   ],
   "source": [
    "#3번\n",
    "import numpy as np\n",
    "import matplotlib.pyplot as plt\n",
    "\n",
    "docs = [1,1,0,1,0,1,1,1,1,0,1,0,1,1,0,1,0,0]\n",
    "docs = np.array(docs).reshape(3,6)\n",
    "doc1 = docs[0]\n",
    "doc2 = docs[1]\n",
    "doc3 = docs[2]\n",
    "\n",
    "query = np.array([1,1,0,0,1,0])\n",
    "\n",
    "#각각 분자 값\n",
    "dot1_upval = np.dot(doc1,query)\n",
    "dot2_upval = np.dot(doc2,query)\n",
    "dot3_upval = np.dot(doc3,query)\n",
    "\n",
    "#각각 분모 값들\n",
    "doc1_temp = doc1**2\n",
    "doc2_temp = doc2**2\n",
    "doc3_temp = doc3**2\n",
    "query_temp = query**2\n",
    "\n",
    "doc1_downval = np.sqrt(np.sum(doc1_temp))\n",
    "doc2_downval = np.sqrt(np.sum(doc2_temp))\n",
    "doc3_downval = np.sqrt(np.sum(doc3_temp))\n",
    "query_downval = np.sqrt(np.sum(query_temp))\n",
    "\n",
    "doc1_cos = round(dot1_upval/(doc1_downval*query_downval),2)\n",
    "doc2_cos = round(dot2_upval/(doc2_downval*query_downval),2)\n",
    "doc3_cos = round(dot3_upval/(doc3_downval*query_downval),2)\n",
    "\n",
    "print(doc1_cos, doc2_cos,doc3_cos)\n",
    "\n",
    "\n",
    "plt.title(\"Cosine similarities\")\n",
    "plt.bar([f\"doc1={doc1_cos}\",f\"doc2={doc2_cos}\",f\"doc3={doc3_cos}\"],[doc1_cos, doc2_cos, doc3_cos])\n",
    "plt.show()"
   ]
  }
 ],
 "metadata": {
  "kernelspec": {
   "display_name": "Python 3",
   "language": "python",
   "name": "python3"
  },
  "language_info": {
   "codemirror_mode": {
    "name": "ipython",
    "version": 3
   },
   "file_extension": ".py",
   "mimetype": "text/x-python",
   "name": "python",
   "nbconvert_exporter": "python",
   "pygments_lexer": "ipython3",
   "version": "3.8.3"
  }
 },
 "nbformat": 4,
 "nbformat_minor": 4
}
